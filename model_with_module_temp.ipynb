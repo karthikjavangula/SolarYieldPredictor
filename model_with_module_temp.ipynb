{
 "cells": [
  {
   "cell_type": "markdown",
   "metadata": {},
   "source": [
    "_In the previous notebook, we pre-processed the data and saved it to a file. In this notebook, we will load the data and train a model to predict the generation of a Solar Power Plant._\n",
    "\n",
    "## OBJECTIVES\n",
    "- We'll use 80% of the data to train our model to predict the \"UTILIZATION\" value based on \"IRRADIATION\", \"TEMPERATURE\", \"MODULE_TEMPERATURE\", \"DATE_TIME\", etc.\n",
    "- We'll randomly select an unseen day and have it predict the \"UTILIZATION\", then summate to get total daily units.\n",
    "- If predicted total daily units is significantly greater than the actual output on that day, the fault percentage will be high, and will cross the threshold.\n",
    "- This system can alert a Solar Power Plant's maintenance crew if the panels need cleaning or maintenance.\n",
    "- In the long term, it's beneficial to measure the amount of dust that accumulates over the panels and at what rate throughout the year.\n",
    "- We want to build a model that can help us achieve a completely maintenance free Solar Power Plant, leaving only faults in the system to be dealt by human maintenance crew."
   ]
  },
  {
   "cell_type": "code",
   "execution_count": 16,
   "metadata": {},
   "outputs": [],
   "source": [
    "\n",
    "import pandas as pd\n",
    "import numpy as np\n",
    "import matplotlib.pyplot as plt\n"
   ]
  },
  {
   "cell_type": "code",
   "execution_count": 17,
   "metadata": {},
   "outputs": [
    {
     "name": "stdout",
     "output_type": "stream",
     "text": [
      "<class 'pandas.core.frame.DataFrame'>\n",
      "RangeIndex: 136472 entries, 0 to 136471\n",
      "Data columns (total 11 columns):\n",
      " #   Column               Non-Null Count   Dtype         \n",
      "---  ------               --------------   -----         \n",
      " 0   DATE_TIME            136472 non-null  datetime64[ns]\n",
      " 1   SOURCE_KEY           136472 non-null  object        \n",
      " 2   DC_POWER             136472 non-null  float64       \n",
      " 3   AC_POWER             136472 non-null  float64       \n",
      " 4   DAILY_YIELD          136472 non-null  float64       \n",
      " 5   TOTAL_YIELD          136472 non-null  float64       \n",
      " 6   AMBIENT_TEMPERATURE  136472 non-null  float64       \n",
      " 7   MODULE_TEMPERATURE   136472 non-null  float64       \n",
      " 8   IRRADIATION          136472 non-null  float64       \n",
      " 9   UTILIZATION          136472 non-null  float64       \n",
      " 10  DC_CAPACITY          136472 non-null  int64         \n",
      "dtypes: datetime64[ns](1), float64(8), int64(1), object(1)\n",
      "memory usage: 11.5+ MB\n",
      "None\n"
     ]
    }
   ],
   "source": [
    "# Load the data\n",
    "data = pd.read_csv('data/combined_data2.csv')\n",
    "\n",
    "data[\"DATE_TIME\"] = pd.to_datetime(data[\"DATE_TIME\"])\n",
    "\n",
    "# Print info about the data\n",
    "print(data.info())"
   ]
  }
 ],
 "metadata": {
  "kernelspec": {
   "display_name": "Python 3",
   "language": "python",
   "name": "python3"
  },
  "language_info": {
   "codemirror_mode": {
    "name": "ipython",
    "version": 3
   },
   "file_extension": ".py",
   "mimetype": "text/x-python",
   "name": "python",
   "nbconvert_exporter": "python",
   "pygments_lexer": "ipython3",
   "version": "3.12.0"
  }
 },
 "nbformat": 4,
 "nbformat_minor": 2
}
