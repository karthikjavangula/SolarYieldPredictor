{
 "cells": [
  {
   "cell_type": "code",
   "execution_count": null,
   "metadata": {},
   "outputs": [],
   "source": [
    "\n",
    "import pandas as pd\n",
    "import numpy as np\n",
    "import matplotlib.pyplot as plt\n"
   ]
  },
  {
   "cell_type": "code",
   "execution_count": null,
   "metadata": {},
   "outputs": [],
   "source": [
    "# Load the data\n",
    "data = pd.read_csv('data/combined_data2.csv')\n",
    "\n",
    "data[\"DATE_TIME\"] = pd.to_datetime(data[\"DATE_TIME\"])\n",
    "\n",
    "# Print info about the data\n",
    "print(data.info())"
   ]
  },
  {
   "cell_type": "code",
   "execution_count": null,
   "metadata": {},
   "outputs": [],
   "source": [
    "# New column \"DATE\" from \"DATE_TIME\"\n",
    "data['DATE'] = pd.to_datetime(data['DATE_TIME']).dt.date\n",
    "\n",
    "# List all unique dates\n",
    "dates = data['DATE'].unique()\n",
    "print(dates)"
   ]
  },
  {
   "cell_type": "code",
   "execution_count": null,
   "metadata": {},
   "outputs": [],
   "source": [
    "\n",
    "# New column \"COMPUTED_YIELD\" initialized to float 0\n",
    "data['COMPUTED_YIELD'] = 0.0\n",
    "\n",
    "# list the no. of rows for each date\n",
    "for date in dates:\n",
    "    print(date, len(data[data['DATE'] == date]))\n",
    "\n",
    "# ranomly pick a date\n",
    "date = np.random.choice(dates)\n",
    "print(f\"Picked: {date}\")\n",
    "\n",
    "df_date = data[data['DATE'] == date]\n",
    "source_keys = data['SOURCE_KEY'].unique()\n",
    "\n",
    "for source_key in source_keys:\n",
    "    df_source = df_date[df_date['SOURCE_KEY'] == source_key]\n",
    "    # sort by time\n",
    "    df_source = df_source.sort_values('DATE_TIME')\n",
    "    daily_yield = 0\n",
    "    # calculate daily yield by iterating over each row\n",
    "    print(f'Length of {source_key}: {len(df_source)}')\n",
    "    print(df_source.head())\n",
    "    for i in range(1, len(df_source)):\n",
    "        avg_power = (df_source.iloc[i]['DC_POWER'] + df_source.iloc[i-1]['DC_POWER']) / 2\n",
    "        time_diff = (df_source.iloc[i]['DATE_TIME'] - df_source.iloc[i-1]['DATE_TIME']).seconds / 3600\n",
    "        daily_yield += avg_power * time_diff\n",
    "        # print(f\"{source_key}: {daily_yield}\")\n",
    "    # update the data\n",
    "    df_date.loc[df_date['SOURCE_KEY'] == source_key, 'COMPUTED_YIELD'] = daily_yield\n",
    "\n",
    "print(df_date.head())\n",
    "\n",
    "# Calculate TOTAL_YIELD for the picked date from the DC_POWER\n",
    "# total_yield = data[data['DATE'] == date]['DC_POWER'].sum() # wrong, Sum of DC_POWER is not the total yield. DC_POWER is the instantaneous power, not the total energy.\n",
    "# Corrected formula:\n",
    "\n"
   ]
  },
  {
   "cell_type": "code",
   "execution_count": null,
   "metadata": {},
   "outputs": [],
   "source": [
    "print(data[data['DATE'] == date].tail())"
   ]
  }
 ],
 "metadata": {
  "kernelspec": {
   "display_name": "Python 3",
   "language": "python",
   "name": "python3"
  },
  "language_info": {
   "name": "python",
   "version": "3.12.0"
  }
 },
 "nbformat": 4,
 "nbformat_minor": 2
}
